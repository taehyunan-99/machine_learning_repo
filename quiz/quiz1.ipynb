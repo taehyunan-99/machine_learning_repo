{
 "cells": [
  {
   "cell_type": "markdown",
   "metadata": {},
   "source": [
    "## PyTorch Quiz 1 : Tensor 초기화"
   ]
  },
  {
   "cell_type": "code",
   "execution_count": null,
   "metadata": {},
   "outputs": [],
   "source": [
    "import torch"
   ]
  },
  {
   "cell_type": "markdown",
   "metadata": {},
   "source": [
    "### 1. 빈 Tensor 생성하기\n",
    "다음 조건에 맞는 Tensor를 생성하세요.\n",
    "- 3x4 크기의 Tensor\n",
    "- 값이 초기화되지 않은 상태"
   ]
  },
  {
   "cell_type": "code",
   "execution_count": null,
   "metadata": {},
   "outputs": [],
   "source": [
    "x = torch.empty(3,4)\n",
    "print(x)"
   ]
  },
  {
   "cell_type": "markdown",
   "metadata": {},
   "source": [
    "### 2. 0으로 채워진 Tensor 생성하기\n",
    "다음과 같은 Tensor를 생성하세요.\n",
    "- 2x5x3 크기의 Tensor\n",
    "- 데이터 타입은 float64"
   ]
  },
  {
   "cell_type": "code",
   "execution_count": null,
   "metadata": {},
   "outputs": [],
   "source": [
    "x = torch.zeros((2,5,3), dtype=torch.float64)\n",
    "print(x)"
   ]
  },
  {
   "cell_type": "markdown",
   "metadata": {},
   "source": [
    "### 3. 1로 채워진 Tensor 생성하기\n",
    "다음 조건에 맞는 Tensor를 생성하세요.\n",
    "- 4x4 크기의 Tensor\n",
    "- 데이터 타입은 int"
   ]
  },
  {
   "cell_type": "code",
   "execution_count": null,
   "metadata": {},
   "outputs": [],
   "source": [
    "x = torch.ones((4,4), dtype=torch.int32)\n",
    "print(x)"
   ]
  },
  {
   "cell_type": "markdown",
   "metadata": {},
   "source": [
    "### 4. 랜덤 값으로 채워진 Tensor 생성하기\n",
    "다음 조건에 맞는 Tensor를 생성하세요.\n",
    "- 3x3 크기의 Tensor\n",
    "- 모든 값이 0과 1 사이의 랜덤 값"
   ]
  },
  {
   "cell_type": "code",
   "execution_count": null,
   "metadata": {},
   "outputs": [],
   "source": [
    "x = torch.rand(3,3)\n",
    "print(x)"
   ]
  },
  {
   "cell_type": "markdown",
   "metadata": {},
   "source": [
    "### 5. 다차원 Tensor 생성하기\n",
    "다음과 같은 다차원 Tensor를 생성하세요.\n",
    "- 값이 다음과 같은 2x3의 2D 배열\n",
    "    ```\n",
    "    [[1, 2, 3],\n",
    "     [4, 5, 6]]\n",
    "    ```"
   ]
  },
  {
   "cell_type": "code",
   "execution_count": null,
   "metadata": {},
   "outputs": [],
   "source": [
    "x = torch.tensor([[1,2,3], [4,5,6]])\n",
    "print(x)"
   ]
  },
  {
   "cell_type": "markdown",
   "metadata": {},
   "source": [
    "### 6. Tensor의 값을 변경하기\n",
    "1. 표준정규분포의 값을 랜덤으로 갖는 2x2 Tensor를 생성하세요.\n",
    "2. 생성된 Tensor의 속성을 물려받은 원소가 0인 새로운 텐서를 만들어보세요. "
   ]
  },
  {
   "cell_type": "code",
   "execution_count": null,
   "metadata": {},
   "outputs": [],
   "source": [
    "x = torch.randn(2,2, dtype=torch.float64)\n",
    "y = torch.zeros_like(x)\n",
    "print(y)"
   ]
  }
 ],
 "metadata": {
  "kernelspec": {
   "display_name": "torch_study",
   "language": "python",
   "name": "python3"
  },
  "language_info": {
   "codemirror_mode": {
    "name": "ipython",
    "version": 3
   },
   "file_extension": ".py",
   "mimetype": "text/x-python",
   "name": "python",
   "nbconvert_exporter": "python",
   "pygments_lexer": "ipython3",
   "version": "3.12.11"
  }
 },
 "nbformat": 4,
 "nbformat_minor": 2
}
