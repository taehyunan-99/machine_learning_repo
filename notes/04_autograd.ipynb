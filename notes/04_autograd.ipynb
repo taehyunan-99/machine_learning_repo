{
 "cells": [
  {
   "cell_type": "markdown",
   "id": "3237d3f1",
   "metadata": {},
   "source": [
    "# 04. Autograd(자동미분)\n",
    "- Pytorch는 Tensor의 모든 연산에 대해 자동미분이 가능\n",
    "- 자동미분은 역전파에 활용\n",
    "- ```requires_grad``` : Tensor의 속성으로, True로 설정해야 자동미분이 가능\n",
    "- ```tensor.backward()``` : 미분 실행\n",
    "- ```tensor.grad``` : 미분값을 확인할 수 있는 속성"
   ]
  },
  {
   "cell_type": "code",
   "execution_count": null,
   "id": "fa28bc51",
   "metadata": {},
   "outputs": [],
   "source": [
    "import torch\n",
    "import torchvision\n",
    "import numpy as np"
   ]
  },
  {
   "cell_type": "code",
   "execution_count": null,
   "id": "088e33fe",
   "metadata": {},
   "outputs": [],
   "source": [
    "x = torch.tensor([1.], requires_grad=True)\n",
    "y = x ** 2\n",
    "print(y)\n",
    "print(x.grad)\n",
    "# tensor([1.], grad_fn=<PowBackward0>)\n",
    "# None\n",
    "\n",
    "z = 3 * y\n",
    "print(z)\n",
    "# tensor([3.], grad_fn=<MulBackward0>)\n",
    "\n",
    "z.backward()\n",
    "print(x.grad)\n",
    "# tensor([6.])"
   ]
  },
  {
   "cell_type": "code",
   "execution_count": null,
   "id": "906767a5",
   "metadata": {},
   "outputs": [],
   "source": [
    "x = torch.tensor([1.], requires_grad=True)\n",
    "a = x ** 2\n",
    "b = a + 1\n",
    "c = b ** 2\n",
    "\n",
    "c.backward()\n",
    "print(x.grad)\n",
    "# tensor([8.])\n",
    "\n",
    "# 결과를 연산과 분리\n",
    "result = x.grad.detach()\n",
    "print(result)\n",
    "print(result.requires_grad)\n",
    "print(result.item())\n",
    "# tensor([8.])\n",
    "# False\n",
    "# 8.0"
   ]
  },
  {
   "cell_type": "code",
   "execution_count": null,
   "id": "ab9f6063",
   "metadata": {},
   "outputs": [],
   "source": [
    "# 다변수 함수 미분\n",
    "x = torch.tensor([1.], requires_grad=True)\n",
    "y = torch.tensor([3.], requires_grad=True)\n",
    "z = (2 * (x ** 2)) + (y ** 2)\n",
    "\n",
    "print(z)\n",
    "# tensor([11.], grad_fn=<AddBackward0>)\n",
    "\n",
    "z.backward()\n",
    "print(x.grad)\n",
    "print(y.grad)\n",
    "# tensor([4.])\n",
    "# tensor([6.])"
   ]
  },
  {
   "cell_type": "code",
   "execution_count": null,
   "id": "2fefcc72",
   "metadata": {},
   "outputs": [],
   "source": [
    "# with torch.no_grad()\n",
    "# grad_fn 을 계산하고 싶지 않을때 사용\n",
    "# 모델 훈련 후 test data를 가지고 평가할 때 사용\n",
    "\n",
    "x = torch.tensor([1.], requires_grad=True)\n",
    "\n",
    "with torch.no_grad():\n",
    "    y = x ** 2\n",
    "    print(x.requires_grad)\n",
    "    print(y)\n",
    "    # True\n",
    "    # tensor([1.])\n",
    "    \n",
    "print(x.requires_grad)\n",
    "# True\n",
    "\n",
    "y.backward() # with 구문 안쪽의 y로 미분 시도시 에러 발생"
   ]
  }
 ],
 "metadata": {
  "kernelspec": {
   "display_name": "torch_study",
   "language": "python",
   "name": "python3"
  },
  "language_info": {
   "codemirror_mode": {
    "name": "ipython",
    "version": 3
   },
   "file_extension": ".py",
   "mimetype": "text/x-python",
   "name": "python",
   "nbconvert_exporter": "python",
   "pygments_lexer": "ipython3",
   "version": "3.12.11"
  }
 },
 "nbformat": 4,
 "nbformat_minor": 5
}
