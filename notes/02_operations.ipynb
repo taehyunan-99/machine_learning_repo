{
 "cells": [
  {
   "cell_type": "markdown",
   "id": "8c264cb0",
   "metadata": {},
   "source": [
    "# 02. 텐서의 연산"
   ]
  },
  {
   "cell_type": "code",
   "execution_count": null,
   "id": "4269ba63",
   "metadata": {},
   "outputs": [],
   "source": [
    "import torch\n",
    "import torchvision\n",
    "import numpy as np\n",
    "\n",
    "# print(torch.__version__)\n",
    "# print(torchvision.__version__)"
   ]
  },
  {
   "cell_type": "markdown",
   "id": "5dcefaf3",
   "metadata": {},
   "source": [
    "## 2-1. 산술 연산"
   ]
  },
  {
   "cell_type": "code",
   "execution_count": null,
   "id": "574ca7e5",
   "metadata": {},
   "outputs": [],
   "source": [
    "x = torch.ones(2,2)\n",
    "print(x)\n",
    "# tensor([[1., 1.],\n",
    "#         [1., 1.]])\n",
    "\n",
    "x *= 2\n",
    "print(x)\n",
    "# tensor([[2., 2.],\n",
    "#         [2., 2.]])\n",
    "\n",
    "x += 3\n",
    "print(x)\n",
    "# tensor([[5., 5.],\n",
    "#         [5., 5.]])"
   ]
  },
  {
   "cell_type": "code",
   "execution_count": null,
   "id": "4e0fdafc",
   "metadata": {},
   "outputs": [],
   "source": [
    "# 연산의 결과가 원본을 변경하지는 않음\n",
    "\n",
    "x = torch.tensor([[1,2], [3,4]])\n",
    "y = torch.tensor([[4,3], [2,1]])\n",
    "\n",
    "# 더하기\n",
    "add = torch.add(x, y)\n",
    "print(add)\n",
    "print(x + y)\n",
    "# tensor([[5, 5],\n",
    "#         [5, 5]])\n",
    "\n",
    "# 빼기\n",
    "sub = torch.sub(x, y)\n",
    "print(sub)\n",
    "print(x - y)\n",
    "# tensor([[-3, -1],\n",
    "#         [ 1,  3]])\n",
    "\n",
    "# 곱하기\n",
    "mul = torch.mul(x, y)\n",
    "print(mul)\n",
    "print(x * y)\n",
    "# tensor([[4, 6],\n",
    "#         [6, 4]])\n",
    "\n",
    "# 나누기\n",
    "div = torch.div(x, y)\n",
    "print(div)\n",
    "print(x / y)\n",
    "# tensor([[0.2500, 0.6667],\n",
    "#         [1.5000, 4.0000]])"
   ]
  },
  {
   "cell_type": "markdown",
   "id": "02290a3d",
   "metadata": {},
   "source": [
    "## 2-2. 바꿔치기 연산(in-place)\n",
    "- 연산자의 뒤에 _ 를 추가한 형태로 사용"
   ]
  },
  {
   "cell_type": "code",
   "execution_count": null,
   "id": "fdaa7c7b",
   "metadata": {},
   "outputs": [],
   "source": [
    "x = torch.tensor([[5,6], [7,8]])\n",
    "y = torch.tensor([[3,1], [4,2]])\n",
    "\n",
    "x.add_(y)\n",
    "print(x)\n",
    "# tensor([[ 8,  7],\n",
    "#         [11, 10]])\n",
    "\n",
    "# fill\n",
    "x.fill_(0)\n",
    "print(x)\n",
    "# tensor([[0, 0],\n",
    "#         [0, 0]])"
   ]
  },
  {
   "cell_type": "markdown",
   "id": "cc850eb1",
   "metadata": {},
   "source": [
    "## 2-3. 각종 연산"
   ]
  },
  {
   "cell_type": "code",
   "execution_count": null,
   "id": "8dd18360",
   "metadata": {},
   "outputs": [],
   "source": [
    "x = torch.tensor([[1.1,2.2,3.3], [4,5,6], [-1,-3.14,-6]])\n",
    "\n",
    "# 수학 연산\n",
    "print(\"절대값\", torch.abs(x))\n",
    "# 절대값 tensor([[1.1000, 2.2000, 3.3000],\n",
    "#         [4.0000, 5.0000, 6.0000],\n",
    "#         [1.0000, 3.1400, 6.0000]])\n",
    "\n",
    "print(\"올림\", torch.ceil(x))\n",
    "# 올림 tensor([[ 2.,  3.,  4.],\n",
    "#         [ 4.,  5.,  6.],\n",
    "#         [-1., -3., -6.]])\n",
    "\n",
    "print(\"반올림\", torch.round(x))\n",
    "# 반올림 tensor([[ 1.,  2.,  3.],\n",
    "#         [ 4.,  5.,  6.],\n",
    "#         [-1., -3., -6.]])\n",
    "\n",
    "print(\"내림\", torch.floor(x))\n",
    "# 내림 tensor([[ 1.,  2.,  3.],\n",
    "#         [ 4.,  5.,  6.],\n",
    "#         [-1., -4., -6.]])\n",
    "\n",
    "print(\"모든 원소의 합\", torch.sum(x))\n",
    "# 모든 원소의 합 tensor(11.4600)\n",
    "\n",
    "print(\"모든 원소의 곱\", torch.prod(x))\n",
    "# 모든 원소의 곱 tensor(-18054.7500)"
   ]
  },
  {
   "cell_type": "code",
   "execution_count": null,
   "id": "41ceeb14",
   "metadata": {},
   "outputs": [],
   "source": [
    "# 통계관련 연산\n",
    "print(\"최소값\", torch.min(x))\n",
    "# 최소값 tensor(-6.)\n",
    "\n",
    "print(\"최대값\", torch.max(x))\n",
    "# 최대값 tensor(6.)\n",
    "\n",
    "print(\"최소값의 인덱스\", torch.argmin(x))\n",
    "# 최소값의 인덱스 tensor(8)\n",
    "\n",
    "print(\"최대값의 인덱스\", torch.argmax(x))\n",
    "# 최대값의 인덱스 tensor(5)\n",
    "\n",
    "# 최소값과 최대값을 정하고 그 범위 안으로 값을 맞춤\n",
    "print(\"클램프\", torch.clamp(x, -2, 2))\n",
    "# 클램프 tensor([[ 1.1000,  2.0000,  2.0000],\n",
    "#         [ 2.0000,  2.0000,  2.0000],\n",
    "#         [-1.0000, -2.0000, -2.0000]])\n",
    "\n",
    "print(\"평균값\", torch.mean(x))\n",
    "# 평균값 tensor(1.2733)\n",
    "\n",
    "print(\"표준편차\", torch.std(x))\n",
    "# 표준편차 tensor(3.9719)\n",
    "\n",
    "print(\"중복제거\", torch.unique(torch.tensor([1,1,1,2,2,2,3,3,3,4,4])))\n",
    "# 중복제거 tensor([1, 2, 3, 4])"
   ]
  },
  {
   "cell_type": "code",
   "execution_count": null,
   "id": "e39d50b0",
   "metadata": {},
   "outputs": [],
   "source": [
    "# 차원 지정\n",
    "x = torch.tensor([[1.1,2.2,3.3], [4,5,6], [-1,-3.14,-6]])\n",
    "\n",
    "print(\"열의 합\", torch.sum(x, dim=0))\n",
    "print(\"행의 합\", torch.sum(x, dim=1))\n",
    "# 열의 합 tensor([4.1000, 4.0600, 3.3000])\n",
    "# 행의 합 tensor([  6.6000,  15.0000, -10.1400])\n",
    "\n",
    "print(\"열의 최대값\", torch.max(x, dim=0))\n",
    "# 열의 최대값 torch.return_types.max(\n",
    "# values=tensor([4., 5., 6.]),\n",
    "# indices=tensor([1, 1, 1]))"
   ]
  },
  {
   "cell_type": "markdown",
   "id": "9518a6aa",
   "metadata": {},
   "source": [
    "## 2-4. 내적(dot product) / 행렬의 곱셈"
   ]
  },
  {
   "cell_type": "code",
   "execution_count": null,
   "id": "dae90210",
   "metadata": {},
   "outputs": [],
   "source": [
    "x = torch.tensor([[1,2], [3,4]])\n",
    "y = torch.tensor([[5,6], [7,8]])\n",
    "\n",
    "print(torch.matmul(x,y))\n",
    "# tensor([[19, 22],\n",
    "#         [43, 50]])"
   ]
  }
 ],
 "metadata": {
  "kernelspec": {
   "display_name": "torch_study",
   "language": "python",
   "name": "python3"
  },
  "language_info": {
   "codemirror_mode": {
    "name": "ipython",
    "version": 3
   },
   "file_extension": ".py",
   "mimetype": "text/x-python",
   "name": "python",
   "nbconvert_exporter": "python",
   "pygments_lexer": "ipython3",
   "version": "3.12.11"
  }
 },
 "nbformat": 4,
 "nbformat_minor": 5
}
