{
 "cells": [
  {
   "cell_type": "markdown",
   "id": "4ce5f5a6",
   "metadata": {},
   "source": [
    "# 03. 텐서의 조작"
   ]
  },
  {
   "cell_type": "code",
   "execution_count": null,
   "id": "654814ca",
   "metadata": {},
   "outputs": [],
   "source": [
    "import torch\n",
    "import torchvision\n",
    "import numpy as np\n",
    "\n",
    "# print(torch.__version__)\n",
    "# print(torchvision.__version__)"
   ]
  },
  {
   "cell_type": "markdown",
   "id": "57bd5055",
   "metadata": {},
   "source": [
    "## 3-1. 인덱싱, 슬라이싱\n",
    "- NumPy와 동일한 방식으로 인덱싱, 슬라이싱 가능"
   ]
  },
  {
   "cell_type": "code",
   "execution_count": null,
   "id": "29816211",
   "metadata": {},
   "outputs": [],
   "source": [
    "x = torch.tensor([[1,2,3], [4,5,6], [7,8,9]])\n",
    "\n",
    "print(x[1,1])\n",
    "# tensor(5)\n",
    "print(x[2,0])\n",
    "# tensor(7)\n",
    "print(x[0, :])\n",
    "# tensor([1, 2, 3])\n",
    "print(x[:, 2])\n",
    "# tensor([3, 6, 9])"
   ]
  },
  {
   "cell_type": "code",
   "execution_count": null,
   "id": "06644157",
   "metadata": {},
   "outputs": [],
   "source": [
    "# fancy 인덱싱\n",
    "x = torch.tensor([[1,2,3], [4,5,6], [7,8,9]])\n",
    "\n",
    "print(x[[0,1,2], [0,1,2]])\n",
    "# tensor([1, 5, 9])\n",
    "\n",
    "# boolean 인덱싱\n",
    "print(x[x > 5])\n",
    "# tensor([6, 7, 8, 9])"
   ]
  },
  {
   "cell_type": "code",
   "execution_count": null,
   "id": "1d636222",
   "metadata": {},
   "outputs": [],
   "source": [
    "# 값 변경\n",
    "x = torch.tensor([10,20,30,40,50])\n",
    "\n",
    "# 인덱스를 사용해서 값 변경\n",
    "x[0] = 100\n",
    "print(x)\n",
    "# tensor([100,  20,  30,  40,  50])\n",
    "\n",
    "# 슬라이싱으로 값을 변경할 시 tensor로 값을 할당\n",
    "x[1:4] = torch.tensor([200,300,400])\n",
    "print(x)\n",
    "# tensor([100, 200, 300, 400,  50])"
   ]
  },
  {
   "cell_type": "markdown",
   "id": "f2306754",
   "metadata": {},
   "source": [
    "## 3-2. 텐서의 크기, 모양 변경\n",
    "- ```torch.view()```"
   ]
  },
  {
   "cell_type": "code",
   "execution_count": null,
   "id": "4e3cbc68",
   "metadata": {},
   "outputs": [],
   "source": [
    "x = torch.randn(4,5)\n",
    "print(x)\n",
    "# tensor([[ 1.6556,  1.1775,  0.7074,  0.6514,  1.2222],\n",
    "#         [-3.4192,  0.5839, -0.5892,  0.9749, -0.3656],\n",
    "#         [-0.9102, -1.4960,  0.4842,  0.2422, -0.6213],\n",
    "#         [-1.2977,  0.1044, -1.1074, -0.6357,  0.8306]])\n",
    "\n",
    "y = x.view(20)\n",
    "print(y)\n",
    "# tensor([ 1.6556,  1.1775,  0.7074,  0.6514,  1.2222, -3.4192,  0.5839, -0.5892,\n",
    "#          0.9749, -0.3656, -0.9102, -1.4960,  0.4842,  0.2422, -0.6213, -1.2977,\n",
    "#          0.1044, -1.1074, -0.6357,  0.8306])\n",
    "\n",
    "z = y.view(5, -1) # -1 -> 자동 계산\n",
    "print(z)\n",
    "# tensor([[-1.3062,  0.7716, -0.2739,  0.2950],\n",
    "#         [ 0.0949, -0.3929, -0.3141, -2.0559],\n",
    "#         [-1.0060,  1.5867,  1.1121, -0.1188],\n",
    "#         [-1.6458, -1.6057,  0.3260,  0.7940],\n",
    "#         [-0.4304,  0.6981,  0.0717,  1.4957]])"
   ]
  },
  {
   "cell_type": "markdown",
   "id": "283efd32",
   "metadata": {},
   "source": [
    "## 3-3. 텐서의 숫자값 얻기\n",
    "- ```tensor.item()``` : 스칼라 값 하나만 존재해야 사용 가능"
   ]
  },
  {
   "cell_type": "code",
   "execution_count": null,
   "id": "1e277afc",
   "metadata": {},
   "outputs": [],
   "source": [
    "x = torch.rand(1)\n",
    "print(x)\n",
    "print(x[0])\n",
    "print(x.item())\n",
    "# tensor([0.3532])\n",
    "# tensor(0.3532)\n",
    "# 0.3532150983810425"
   ]
  },
  {
   "cell_type": "markdown",
   "id": "b6d30e29",
   "metadata": {},
   "source": [
    "## 3-4. 차원 축소 및 증가"
   ]
  },
  {
   "cell_type": "markdown",
   "id": "44765933",
   "metadata": {},
   "source": [
    "### 차원 축소(제거)\n",
    "- ```torch.squeeze()``` : 크기가 1인 차원을 제거함"
   ]
  },
  {
   "cell_type": "code",
   "execution_count": null,
   "id": "75275a41",
   "metadata": {},
   "outputs": [],
   "source": [
    "t = torch.rand(3,1,3)\n",
    "print(t)\n",
    "print(t.shape)\n",
    "# tensor([[[0.6100, 0.5116, 0.2696]],\n",
    "#         [[0.8604, 0.1251, 0.0841]],\n",
    "#         [[0.4251, 0.3889, 0.3191]]])\n",
    "# torch.Size([3, 1, 3])\n",
    "\n",
    "ts = torch.squeeze(t)\n",
    "print(ts)\n",
    "print(ts.shape)\n",
    "# tensor([[0.6100, 0.5116, 0.2696],\n",
    "#         [0.8604, 0.1251, 0.0841],\n",
    "#         [0.4251, 0.3889, 0.3191]])\n",
    "# torch.Size([3, 3])"
   ]
  },
  {
   "cell_type": "markdown",
   "id": "da4f2c53",
   "metadata": {},
   "source": [
    "### 차원 증가(생성)\n",
    "- ```torch.unsqueeze()``` : dim 설정에 따라 차원을 증가시킴\n",
    "    - dim : 하나의 차원이 추가되는 인덱스"
   ]
  },
  {
   "cell_type": "code",
   "execution_count": null,
   "id": "6b62a2a0",
   "metadata": {},
   "outputs": [],
   "source": [
    "t = torch.rand(3,3,3)\n",
    "print(t.shape)\n",
    "# torch.Size([3, 3, 3])\n",
    "\n",
    "ts1 = torch.unsqueeze(t, dim=0)\n",
    "print(ts1.shape)\n",
    "# torch.Size([1, 3, 3, 3])\n",
    "\n",
    "ts2 = torch.unsqueeze(t, dim=1)\n",
    "print(ts2.shape)\n",
    "# torch.Size([3, 1, 3, 3])\n",
    "\n",
    "ts3 = torch.unsqueeze(t, dim=2)\n",
    "print(ts3.shape)\n",
    "# torch.Size([3, 3, 1, 3])\n",
    "\n",
    "ts4 = torch.unsqueeze(t, dim=3)\n",
    "print(ts4.shape)\n",
    "# torch.Size([3, 3, 3, 1])"
   ]
  },
  {
   "cell_type": "markdown",
   "id": "6483650a",
   "metadata": {},
   "source": [
    "## 3-5. 텐서간 결합"
   ]
  },
  {
   "cell_type": "markdown",
   "id": "13605344",
   "metadata": {},
   "source": [
    "- ```torch.stack()``` : 동일한 형식의 텐서를 새롭게 그룹화 함 -> 새로운 차원이 생성됨"
   ]
  },
  {
   "cell_type": "code",
   "execution_count": null,
   "id": "27ca081e",
   "metadata": {},
   "outputs": [],
   "source": [
    "x = torch.tensor([1,4])\n",
    "y = torch.tensor([2,5])\n",
    "z = torch.tensor([3,6])\n",
    "\n",
    "result = torch.stack([x,y,z])\n",
    "\n",
    "print(result)\n",
    "# tensor([[1, 4],\n",
    "#         [2, 5],\n",
    "#         [3, 6]])"
   ]
  },
  {
   "cell_type": "code",
   "execution_count": null,
   "id": "0a28c34b",
   "metadata": {},
   "outputs": [],
   "source": [
    "a = torch.tensor([[1,2], [3,4]])\n",
    "b = torch.tensor([[5,6], [7,8]])\n",
    "\n",
    "result2 = torch.stack([a, b])\n",
    "\n",
    "print(result2)\n",
    "# tensor([[[1, 2],\n",
    "#          [3, 4]],\n",
    "#         [[5, 6],\n",
    "#          [7, 8]]])"
   ]
  },
  {
   "cell_type": "markdown",
   "id": "ec4424aa",
   "metadata": {},
   "source": [
    "- ```torch.cat()``` : 데이터를 하나의 텐서로 병합 -> 새로운 차원 생성X"
   ]
  },
  {
   "cell_type": "code",
   "execution_count": null,
   "id": "00e8145c",
   "metadata": {},
   "outputs": [],
   "source": [
    "a = torch.tensor([[1,2], [3,4], [5,6]])\n",
    "b = torch.tensor([[7,8], [9,10]])\n",
    "\n",
    "result = torch.cat((a, b))\n",
    "\n",
    "print(result)\n",
    "# tensor([[ 1,  2],\n",
    "#         [ 3,  4],\n",
    "#         [ 5,  6],\n",
    "#         [ 7,  8],\n",
    "#         [ 9, 10]])"
   ]
  },
  {
   "cell_type": "code",
   "execution_count": null,
   "id": "95a09b0a",
   "metadata": {},
   "outputs": [],
   "source": [
    "a = torch.tensor([[1,2], [3,4]])\n",
    "b = torch.tensor([[7,8], [9,10]])\n",
    "\n",
    "result2 = torch.cat((a, b), dim=1)\n",
    "\n",
    "print(result2)\n",
    "# tensor([[ 1,  2,  7,  8],\n",
    "#         [ 3,  4,  9, 10]])"
   ]
  },
  {
   "cell_type": "markdown",
   "id": "6e428d18",
   "metadata": {},
   "source": [
    "## 3-6. 텐서 나누기"
   ]
  },
  {
   "cell_type": "markdown",
   "id": "881fc52a",
   "metadata": {},
   "source": [
    "- ```torch.chunk()``` : 텐서를 지정한 개수에 따라 나눔\n",
    "    - 나누어 떨어지지 않는 경우 -> 마지막 조각의 크기가 달라짐"
   ]
  },
  {
   "cell_type": "code",
   "execution_count": null,
   "id": "134acab9",
   "metadata": {},
   "outputs": [],
   "source": [
    "a = torch.rand(3,7)\n",
    "print(a)\n",
    "# tensor([[0.1705, 0.9585, 0.9547, 0.8704, 0.1652, 0.5958, 0.9330],\n",
    "#         [0.7946, 0.5683, 0.9037, 0.7619, 0.3425, 0.0082, 0.4182],\n",
    "#         [0.6893, 0.9638, 0.4572, 0.4528, 0.0766, 0.4159, 0.0359]])\n",
    "\n",
    "a1, a2, a3 = torch.chunk(a, 3)\n",
    "\n",
    "print(a1)\n",
    "# tensor([[0.1705, 0.9585, 0.9547, 0.8704, 0.1652, 0.5958, 0.9330]])\n",
    "\n",
    "print(a2)\n",
    "# tensor([[0.7946, 0.5683, 0.9037, 0.7619, 0.3425, 0.0082, 0.4182]])\n",
    "\n",
    "print(a3)\n",
    "# tensor([[0.6893, 0.9638, 0.4572, 0.4528, 0.0766, 0.4159, 0.0359]])"
   ]
  },
  {
   "cell_type": "code",
   "execution_count": null,
   "id": "057d5d02",
   "metadata": {},
   "outputs": [],
   "source": [
    "a = torch.rand(3,7)\n",
    "print(a)\n",
    "# tensor([[0.8378, 0.5858, 0.4332, 0.4985, 0.0919, 0.8994, 0.7126],\n",
    "#         [0.9848, 0.8618, 0.6856, 0.3227, 0.2699, 0.8010, 0.6921],\n",
    "#         [0.0596, 0.2603, 0.2632, 0.7922, 0.5997, 0.2149, 0.7465]])\n",
    "\n",
    "a1, a2, a3 = torch.chunk(a, 3, dim=1)\n",
    "\n",
    "print(a1)\n",
    "# tensor([[0.8378, 0.5858, 0.4332],\n",
    "#         [0.9848, 0.8618, 0.6856],\n",
    "#         [0.0596, 0.2603, 0.2632]])\n",
    "\n",
    "print(a2)\n",
    "# tensor([[0.4985, 0.0919, 0.8994],\n",
    "#         [0.3227, 0.2699, 0.8010],\n",
    "#         [0.7922, 0.5997, 0.2149]])\n",
    "\n",
    "print(a3)\n",
    "# tensor([[0.7126],\n",
    "#         [0.6921],\n",
    "#         [0.7465]])"
   ]
  },
  {
   "cell_type": "markdown",
   "id": "421eb42c",
   "metadata": {},
   "source": [
    "- ```torch.split()``` : 지정한 사이즈에 따라 나눔\n",
    "    - 나누어 떨어지지 않는 경우 -> 마지막 조각의 크기가 달라짐"
   ]
  },
  {
   "cell_type": "code",
   "execution_count": null,
   "id": "2e6c18f7",
   "metadata": {},
   "outputs": [],
   "source": [
    "a = torch.rand(3,7)\n",
    "print(a)\n",
    "# tensor([[0.7691, 0.8303, 0.2884, 0.1934, 0.3759, 0.3085, 0.9404],\n",
    "#         [0.0326, 0.4732, 0.2993, 0.2168, 0.2406, 0.6826, 0.1089],\n",
    "#         [0.1272, 0.9000, 0.9769, 0.7887, 0.7715, 0.1723, 0.1917]])\n",
    "\n",
    "a1, a2, a3= torch.split(a, 3, dim=1)\n",
    "\n",
    "print(a1)\n",
    "# tensor([[0.7691, 0.8303, 0.2884],\n",
    "#         [0.0326, 0.4732, 0.2993],\n",
    "#         [0.1272, 0.9000, 0.9769]])\n",
    "\n",
    "print(a2)\n",
    "# tensor([[0.1934, 0.3759, 0.3085],\n",
    "#         [0.2168, 0.2406, 0.6826],\n",
    "#         [0.7887, 0.7715, 0.1723]])\n",
    "\n",
    "print(a3)\n",
    "# tensor([[0.9404],\n",
    "#         [0.1089],\n",
    "#         [0.1917]])"
   ]
  },
  {
   "cell_type": "code",
   "execution_count": null,
   "id": "f02e2945",
   "metadata": {},
   "outputs": [],
   "source": [
    "# 쪼갤 열의 개수 지정 가능\n",
    "\n",
    "a = torch.rand(3,7)\n",
    "print(a)\n",
    "# tensor([[0.1268, 0.6118, 0.6873, 0.4629, 0.7768, 0.9058, 0.4305],\n",
    "#         [0.9716, 0.5351, 0.6880, 0.8228, 0.5792, 0.6738, 0.9804],\n",
    "#         [0.4442, 0.8235, 0.4395, 0.2360, 0.4738, 0.6875, 0.7432]])\n",
    "\n",
    "a1, a2, a3= torch.split(a, [1,1,5], dim=1)\n",
    "\n",
    "print(a1)\n",
    "# tensor([[0.1268],\n",
    "#         [0.9716],\n",
    "#         [0.4442]])\n",
    "\n",
    "print(a2)\n",
    "# tensor([[0.6118],\n",
    "#         [0.5351],\n",
    "#         [0.8235]])\n",
    "\n",
    "print(a3)\n",
    "# tensor([[0.6873, 0.4629, 0.7768, 0.9058, 0.4305],\n",
    "#         [0.6880, 0.8228, 0.5792, 0.6738, 0.9804],\n",
    "#         [0.4395, 0.2360, 0.4738, 0.6875, 0.7432]])"
   ]
  }
 ],
 "metadata": {
  "kernelspec": {
   "display_name": "torch_study",
   "language": "python",
   "name": "python3"
  },
  "language_info": {
   "codemirror_mode": {
    "name": "ipython",
    "version": 3
   },
   "file_extension": ".py",
   "mimetype": "text/x-python",
   "name": "python",
   "nbconvert_exporter": "python",
   "pygments_lexer": "ipython3",
   "version": "3.12.11"
  }
 },
 "nbformat": 4,
 "nbformat_minor": 5
}
