{
 "cells": [
  {
   "cell_type": "markdown",
   "id": "3b5d1f7e",
   "metadata": {},
   "source": [
    "# PyTorch\n",
    "- GPU를 이용한 동적 신경망 구축이 가능한 딥러닝 프레임워크\n",
    "\n",
    "## 구성 요소\n",
    "- ```torch``` : 메인 네임스페이스, 텐서 등의 다양한 함수가 포함\n",
    "- ```torch.autograd``` : 자동 미분 기능을 제공하는 라이브러리\n",
    "- ```torch.nn``` : 신경망 구축을 위한 데이터 구조, 레이어 등을 제공하는 라이브러리\n",
    "- ```torch.multiprocessing``` : 병렬처리 기능을 제공하는 라이브러리\n",
    "- ```torch.optim``` : SGD(Stochastic Gradient Descent, 확률적 경사 하강법) 등 파라미터 최적화 알고리즘 제공\n",
    "- ```torch.utils``` : 데이터 조작 등 유틸리티 기능 제공"
   ]
  },
  {
   "cell_type": "markdown",
   "id": "3c5405b3",
   "metadata": {},
   "source": [
    "# 01. Tensor\n",
    "- 방향성과 크기를 동시에 표현하는 다차원 배열"
   ]
  },
  {
   "cell_type": "code",
   "execution_count": null,
   "id": "cd506135",
   "metadata": {},
   "outputs": [],
   "source": [
    "import torch\n",
    "import torchvision\n",
    "import numpy as np\n",
    "\n",
    "# print(torch.__version__)\n",
    "# print(torchvision.__version__)"
   ]
  },
  {
   "cell_type": "markdown",
   "id": "294cd929",
   "metadata": {},
   "source": [
    "## 1-1. 텐서의 초기화\n",
    "- 초기화 : 텐서를 생성하고 특정 값을 최초로 채우는 것"
   ]
  },
  {
   "cell_type": "markdown",
   "id": "3cb2677e",
   "metadata": {},
   "source": [
    "### 초기화 되지 않은 텐서"
   ]
  },
  {
   "cell_type": "code",
   "execution_count": null,
   "id": "91816e97",
   "metadata": {},
   "outputs": [],
   "source": [
    "x = torch.empty(4, 2)\n",
    "\n",
    "print(x)\n",
    "# tensor([[8.4078e-45, 0.0000e+00],\n",
    "#         [0.0000e+00, 0.0000e+00],\n",
    "#         [1.1388e-38, 1.5574e-41],\n",
    "#         [0.0000e+00, 0.0000e+00]])"
   ]
  },
  {
   "cell_type": "markdown",
   "id": "be24e089",
   "metadata": {},
   "source": [
    "### 무작위로 초기화된 텐서\n",
    "- ```rand()``` : 0과 1사이의 값으로 랜덤하게 초기화된 텐서\n",
    "- ```randn()``` : 표준정규분포를 따르는 랜덤한 값으로 초기화된 텐서 생성"
   ]
  },
  {
   "cell_type": "code",
   "execution_count": null,
   "id": "b087cbaa",
   "metadata": {},
   "outputs": [],
   "source": [
    "x = torch.rand(4,2)\n",
    "y = torch.randn(2,3)\n",
    "\n",
    "print(x)\n",
    "print(y)\n",
    "# tensor([[0.4590, 0.9777],\n",
    "#         [0.1977, 0.6261],\n",
    "#         [0.0530, 0.9501],\n",
    "#         [0.1548, 0.1872]])\n",
    "# tensor([[ 1.4518, -0.5593,  0.6369],\n",
    "#         [-0.1235,  0.2759,  0.1233]])"
   ]
  },
  {
   "cell_type": "markdown",
   "id": "26680f48",
   "metadata": {},
   "source": [
    "### 0으로 채워진 텐서"
   ]
  },
  {
   "cell_type": "code",
   "execution_count": null,
   "id": "6144ea7b",
   "metadata": {},
   "outputs": [],
   "source": [
    "x = torch.zeros(4,2, dtype=torch.long)\n",
    "\n",
    "print(x)\n",
    "# tensor([[0, 0],\n",
    "#         [0, 0],\n",
    "#         [0, 0],\n",
    "#         [0, 0]])"
   ]
  },
  {
   "cell_type": "markdown",
   "id": "0139f469",
   "metadata": {},
   "source": [
    "### 1로 채워진 텐서"
   ]
  },
  {
   "cell_type": "code",
   "execution_count": null,
   "id": "2d0bbf10",
   "metadata": {},
   "outputs": [],
   "source": [
    "x = torch.ones(2,4, dtype=torch.double)\n",
    "\n",
    "print(x)\n",
    "# tensor([[1., 1., 1., 1.],\n",
    "#         [1., 1., 1., 1.]], dtype=torch.float64)\n",
    "\n",
    "# 기존 텐서의 속성(데이터 타입, 장치)을 물려받음\n",
    "y = x.new_ones(3,2)\n",
    "print(y)\n",
    "# tensor([[1., 1.],\n",
    "#         [1., 1.],\n",
    "#         [1., 1.]], dtype=torch.float64)"
   ]
  },
  {
   "cell_type": "markdown",
   "id": "8a9159f5",
   "metadata": {},
   "source": [
    "### 사용자가 입력한 값으로 텐서 초기화"
   ]
  },
  {
   "cell_type": "code",
   "execution_count": null,
   "id": "9e09ccef",
   "metadata": {},
   "outputs": [],
   "source": [
    "x = torch.tensor([1, 2.5])\n",
    "\n",
    "print(x)\n",
    "# tensor([1.0000, 2.5000])"
   ]
  },
  {
   "cell_type": "markdown",
   "id": "949e7aa2",
   "metadata": {},
   "source": [
    "### NumPy에서 불러오기"
   ]
  },
  {
   "cell_type": "code",
   "execution_count": null,
   "id": "96630d47",
   "metadata": {},
   "outputs": [],
   "source": [
    "data = [1,2,3,4]\n",
    "np_array = np.array(data)\n",
    "\n",
    "x = torch.from_numpy(np_array)\n",
    "\n",
    "print(x)\n",
    "# tensor([1, 2, 3, 4])"
   ]
  },
  {
   "cell_type": "markdown",
   "id": "502af668",
   "metadata": {},
   "source": [
    "### _like 메서드\n",
    "- 기존 텐서의 속성을 복사하면서 값만 다른 텐서를 만드는 메서드"
   ]
  },
  {
   "cell_type": "code",
   "execution_count": null,
   "id": "a37d36ee",
   "metadata": {},
   "outputs": [],
   "source": [
    "x = torch.tensor([[1,2], [3,4]], dtype=torch.float64)\n",
    "y = torch.zeros_like(x)\n",
    "\n",
    "print(y)\n",
    "# tensor([[0., 0.],\n",
    "#         [0., 0.]], dtype=torch.float64)"
   ]
  },
  {
   "cell_type": "markdown",
   "id": "8e30d26c",
   "metadata": {},
   "source": [
    "## 1-2. 텐서의 속성"
   ]
  },
  {
   "cell_type": "code",
   "execution_count": null,
   "id": "3d440ab1",
   "metadata": {},
   "outputs": [],
   "source": [
    "t = torch.rand(3,4)\n",
    "\n",
    "print(t.size()) # 모양\n",
    "# torch.Size([3, 4])\n",
    "\n",
    "print(t.shape) # 모양\n",
    "# torch.Size([3, 4])\n",
    "\n",
    "print(t.dtype) # 자료형\n",
    "# torch.float32\n",
    "\n",
    "print(t.device) # 장치\n",
    "# cpu"
   ]
  },
  {
   "cell_type": "markdown",
   "id": "443b3316",
   "metadata": {},
   "source": [
    "## 1-3. 데이터 타입"
   ]
  },
  {
   "cell_type": "markdown",
   "id": "5d7b5d5b",
   "metadata": {},
   "source": [
    "### 특정 데이터 타입의 텐서 생성"
   ]
  },
  {
   "cell_type": "code",
   "execution_count": null,
   "id": "eff77738",
   "metadata": {},
   "outputs": [],
   "source": [
    "x = torch.FloatTensor([1,2,3])\n",
    "y = torch.tensor([1,2,3], dtype=torch.float32)\n",
    "\n",
    "print(x.dtype)\n",
    "print(y.dtype)\n",
    "# torch.float32\n",
    "# torch.float32"
   ]
  },
  {
   "cell_type": "markdown",
   "id": "7b5f1fdd",
   "metadata": {},
   "source": [
    "### 타입 캐스팅(형 변환)"
   ]
  },
  {
   "cell_type": "code",
   "execution_count": null,
   "id": "536901ad",
   "metadata": {},
   "outputs": [],
   "source": [
    "ft = torch.FloatTensor([1.1, 2.2, 3.3])\n",
    "print(ft)\n",
    "print(ft.short())\n",
    "print(ft.int())\n",
    "print(ft.long())\n",
    "# tensor([1.1000, 2.2000, 3.3000])\n",
    "# tensor([1, 2, 3], dtype=torch.int16)\n",
    "# tensor([1, 2, 3], dtype=torch.int32)\n",
    "# tensor([1, 2, 3])\n",
    "\n",
    "it = torch.IntTensor([1,2,3])\n",
    "print(it)\n",
    "print(it.half())\n",
    "print(it.float())\n",
    "print(it.double())\n",
    "# tensor([1, 2, 3], dtype=torch.int32)\n",
    "# tensor([1., 2., 3.], dtype=torch.float16)\n",
    "# tensor([1., 2., 3.])\n",
    "# tensor([1., 2., 3.], dtype=torch.float64)"
   ]
  },
  {
   "cell_type": "markdown",
   "id": "b8834693",
   "metadata": {},
   "source": [
    "### CUDA Tensor"
   ]
  },
  {
   "cell_type": "code",
   "execution_count": null,
   "id": "e8bc492c",
   "metadata": {},
   "outputs": [],
   "source": [
    "x = torch.randn(1)\n",
    "\n",
    "if torch.cuda.is_available():\n",
    "    tensor = x.to(\"cuda\")\n",
    "\n",
    "x.device\n",
    "# device(type='cpu')"
   ]
  },
  {
   "cell_type": "code",
   "execution_count": null,
   "id": "5a912d46",
   "metadata": {},
   "outputs": [],
   "source": [
    "device = torch.device(\"cuda\" if torch.cuda.is_available() else \"cpu\")\n",
    "print(device)\n",
    "# cpu\n",
    "\n",
    "x = torch.ones(2,3, device=device)"
   ]
  },
  {
   "cell_type": "markdown",
   "id": "f12f6637",
   "metadata": {},
   "source": [
    "## 1-4. 다차원 텐서 표현"
   ]
  },
  {
   "cell_type": "markdown",
   "id": "478af66a",
   "metadata": {},
   "source": [
    "### 0D Tensor(Scalar)\n",
    "- 하나의 숫자를 담고 있는 텐서\n",
    "- 축과 형상이 없음"
   ]
  },
  {
   "cell_type": "code",
   "execution_count": null,
   "id": "f06811b0",
   "metadata": {},
   "outputs": [],
   "source": [
    "t0 = torch.tensor(0)\n",
    "\n",
    "print(t0.ndim)\n",
    "print(t0.shape)\n",
    "# 0\n",
    "# torch.Size([])"
   ]
  },
  {
   "cell_type": "markdown",
   "id": "348f8ffe",
   "metadata": {},
   "source": [
    "### 1D Tensor(Vector)\n",
    "- 값들을 저장한 리스트와 유사한 텐서\n",
    "- 하나의 축이 존재"
   ]
  },
  {
   "cell_type": "code",
   "execution_count": null,
   "id": "e22b59e0",
   "metadata": {},
   "outputs": [],
   "source": [
    "t1 = torch.tensor([1,2,3])\n",
    "print(t1.ndim)\n",
    "print(t1.shape)\n",
    "# 1\n",
    "# torch.Size([3])"
   ]
  },
  {
   "cell_type": "markdown",
   "id": "df3e4acc",
   "metadata": {},
   "source": [
    "### 2D Tensor(Matrix)\n",
    "- 행렬과 같은 모양으로 두개의 축이 존재\n",
    "- 일반적인 수치, 통계 데이터셋에 주로 활용"
   ]
  },
  {
   "cell_type": "code",
   "execution_count": null,
   "id": "361f8fc1",
   "metadata": {},
   "outputs": [],
   "source": [
    "t2 = torch.tensor([[1,2,3], [1,2,3], [1,2,3]])\n",
    "print(t2.ndim)\n",
    "print(t2.shape)\n",
    "# 2\n",
    "# torch.Size([3, 3])"
   ]
  },
  {
   "cell_type": "markdown",
   "id": "e2ad5488",
   "metadata": {},
   "source": [
    "### 3D Tensor\n",
    "- 큐브와 같은 모양으로 세개의 축이 존재\n",
    "- 데이터가 연속된 시퀀스 데이터나 시간축이 포함된 시계열 데이터에 해당\n",
    "- ex) 주식 가격, 질병 발병 데이터"
   ]
  },
  {
   "cell_type": "code",
   "execution_count": null,
   "id": "55c9d155",
   "metadata": {},
   "outputs": [],
   "source": [
    "t3 = torch.tensor([[[1,2,3], [1,2,3], [1,2,3]], \n",
    "                    [[1,2,3], [1,2,3], [1,2,3]], \n",
    "                    [[1,2,3], [1,2,3], [1,2,3]]])\n",
    "print(t3.ndim)\n",
    "print(t3.shape)\n",
    "# 3\n",
    "# torch.Size([3, 3, 3])"
   ]
  },
  {
   "cell_type": "markdown",
   "id": "76d26bdb",
   "metadata": {},
   "source": [
    "### 4D Tensor\n",
    "- 4개의 축\n",
    "- 컬러 이미지가 대표적인 사례\n",
    "- 주로 샘플, 높이, 너비, 컬러 채널을 가진 구조로 사용"
   ]
  },
  {
   "cell_type": "code",
   "execution_count": null,
   "id": "10f4e33c",
   "metadata": {},
   "outputs": [],
   "source": [
    "t4 = torch.tensor(\n",
    "                [[[[1,2,3], [1,2,3], [1,2,3]], [[1,2,3], [1,2,3], [1,2,3]], [[1,2,3], [1,2,3], [1,2,3]]],\n",
    "                [[[1,2,3], [1,2,3], [1,2,3]], [[1,2,3], [1,2,3], [1,2,3]], [[1,2,3], [1,2,3], [1,2,3]]]]\n",
    ")\n",
    "print(t4.ndim)\n",
    "print(t4.shape)\n",
    "# 4\n",
    "# torch.Size([2, 3, 3, 3])"
   ]
  },
  {
   "cell_type": "markdown",
   "id": "763072ce",
   "metadata": {},
   "source": [
    "### 5D Tensor\n",
    "- 5개의 축\n",
    "- 비디오 데이터가 대표적 사례\n",
    "- 주로 샘플, 프레임, 높이, 너비, 컬러 채널을 가진 구조로 사용"
   ]
  },
  {
   "cell_type": "code",
   "execution_count": null,
   "id": "10e7702d",
   "metadata": {},
   "outputs": [],
   "source": [
    "t5 = torch.tensor(\n",
    "                [[[[[1,2,3], [1,2,3], [1,2,3]], [[1,2,3], [1,2,3], [1,2,3]]],\n",
    "                [[[1,2,3], [1,2,3], [1,2,3]], [[1,2,3], [1,2,3], [1,2,3]]]],\n",
    "                [[[[1,2,3], [1,2,3], [1,2,3]], [[1,2,3], [1,2,3], [1,2,3]]],\n",
    "                [[[1,2,3], [1,2,3], [1,2,3]], [[1,2,3], [1,2,3], [1,2,3]]]]]\n",
    ")\n",
    "print(t5.ndim)\n",
    "print(t5.shape)\n",
    "# 5\n",
    "# torch.Size([2, 2, 2, 3, 3])"
   ]
  }
 ],
 "metadata": {
  "kernelspec": {
   "display_name": "torch_study",
   "language": "python",
   "name": "python3"
  },
  "language_info": {
   "codemirror_mode": {
    "name": "ipython",
    "version": 3
   },
   "file_extension": ".py",
   "mimetype": "text/x-python",
   "name": "python",
   "nbconvert_exporter": "python",
   "pygments_lexer": "ipython3",
   "version": "3.12.11"
  }
 },
 "nbformat": 4,
 "nbformat_minor": 5
}
